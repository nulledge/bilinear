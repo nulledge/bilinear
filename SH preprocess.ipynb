{
 "cells": [
  {
   "cell_type": "code",
   "execution_count": 1,
   "metadata": {},
   "outputs": [],
   "source": [
    "import torch\n",
    "import torch.nn as nn\n",
    "import numpy as np\n",
    "import pickle\n",
    "import imageio\n",
    "import cv2\n",
    "from torch.utils.data import DataLoader\n",
    "from tqdm import tqdm\n",
    "from tensorboardX import SummaryWriter\n",
    "from vectormath import Vector2\n",
    "\n",
    "import H36M\n",
    "import MPII\n",
    "import model\n",
    "from util import config\n",
    "from util.log import get_logger"
   ]
  },
  {
   "cell_type": "code",
   "execution_count": 2,
   "metadata": {},
   "outputs": [],
   "source": [
    "logger, log_dir, comment = get_logger(comment='old')"
   ]
  },
  {
   "cell_type": "code",
   "execution_count": 15,
   "metadata": {},
   "outputs": [],
   "source": [
    "task = H36M.Task.Valid"
   ]
  },
  {
   "cell_type": "code",
   "execution_count": 4,
   "metadata": {},
   "outputs": [],
   "source": [
    "hourglass, optimizer, step, train_epoch = model.hourglass.load(\n",
    "    device=config.hourglass.device,\n",
    "    parameter_dir='{log_dir}/parameter'.format(log_dir=log_dir),\n",
    ")"
   ]
  },
  {
   "cell_type": "code",
   "execution_count": 5,
   "metadata": {},
   "outputs": [
    {
     "name": "stderr",
     "output_type": "stream",
     "text": [
      "[INFO|<ipython-input-5-ef50c8b5b93e>:1] 2018-09-10 20:36:11,050 > ===========================================================\n",
      "[INFO|<ipython-input-5-ef50c8b5b93e>:2] 2018-09-10 20:36:11,051 > Convert from GT to SH                                 \n",
      "[INFO|<ipython-input-5-ef50c8b5b93e>:3] 2018-09-10 20:36:11,052 >     -paramter: old                             \n",
      "[INFO|<ipython-input-5-ef50c8b5b93e>:4] 2018-09-10 20:36:11,053 >     -epoch: 178                       \n",
      "[INFO|<ipython-input-5-ef50c8b5b93e>:5] 2018-09-10 20:36:11,055 >     -task: train                                    \n",
      "[INFO|<ipython-input-5-ef50c8b5b93e>:6] 2018-09-10 20:36:11,056 > ===========================================================\n"
     ]
    }
   ],
   "source": [
    "logger.info('===========================================================')\n",
    "logger.info('Convert from GT to SH' + '                                 ')\n",
    "logger.info('    -paramter: ' + comment + '                             ')\n",
    "logger.info('    -epoch: ' + str(train_epoch) + '                       ')\n",
    "logger.info('    -task: ' + task + '                                    ')\n",
    "logger.info('===========================================================')"
   ]
  },
  {
   "cell_type": "code",
   "execution_count": 16,
   "metadata": {},
   "outputs": [],
   "source": [
    "del data"
   ]
  },
  {
   "cell_type": "code",
   "execution_count": 17,
   "metadata": {},
   "outputs": [],
   "source": [
    "data = DataLoader(\n",
    "    H36M.Dataset(\n",
    "        data_dir=config.bilinear.data_dir,\n",
    "        task=task,\n",
    "        position_only=False,\n",
    "    ),\n",
    "    batch_size=config.hourglass.batch_size * 2,\n",
    "    shuffle=False,\n",
    "    pin_memory=True,\n",
    "    num_workers=config.hourglass.num_workers,\n",
    ")"
   ]
  },
  {
   "cell_type": "code",
   "execution_count": 8,
   "metadata": {},
   "outputs": [],
   "source": [
    "# One of duplicated values, 9, will be removed at H36M/data.py\n",
    "from_MPII_to_H36M = [6, 3, 4, 5, 2, 1, 0, 7, 8, 9, 9, 13, 14, 15, 12, 11, 10]\n",
    "from_MPII_to_H36M = torch.Tensor(from_MPII_to_H36M).long().to(config.bilinear.device)"
   ]
  },
  {
   "cell_type": "code",
   "execution_count": 18,
   "metadata": {},
   "outputs": [
    {
     "name": "stderr",
     "output_type": "stream",
     "text": [
      "SH preprocessing:   0%|          | 0/6867 [00:00<?, ?it/s]/home/nulledge/Workspace/virtual_env/pytorch/lib/python3.5/site-packages/torch/nn/modules/upsampling.py:122: UserWarning: nn.Upsampling is deprecated. Use nn.functional.interpolate instead.\n",
      "  warnings.warn(\"nn.Upsampling is deprecated. Use nn.functional.interpolate instead.\")\n",
      "SH preprocessing: 100%|██████████| 6867/6867 [39:50<00:00,  3.22it/s]\n"
     ]
    }
   ],
   "source": [
    "part = list()\n",
    "step = 0\n",
    "with tqdm(total=len(data), desc='SH preprocessing') as progress:\n",
    "    with torch.set_grad_enabled(False):\n",
    "        for subset, image, heatmap, action in data:\n",
    "\n",
    "            in_camera_space = subset[H36M.Annotation.S]\n",
    "            center = subset[H36M.Annotation.Center]\n",
    "            scale = subset[H36M.Annotation.Scale]\n",
    "\n",
    "            in_camera_space = in_camera_space.to(config.bilinear.device)\n",
    "            image = image.to(config.hourglass.device)\n",
    "            center = center.to(config.hourglass.device)\n",
    "            scale = scale.to(config.hourglass.device)\n",
    "\n",
    "            output = hourglass(image)\n",
    "            output = output[-1]  # Heatmaps from the last stack in batch-channel-height-width shape.\n",
    "\n",
    "            n_batch = output.shape[0]\n",
    "\n",
    "            pose = torch.argmax(output.view(n_batch, 16, -1), dim=-1)\n",
    "            pose = torch.stack([\n",
    "                pose % 64,\n",
    "                pose // 64,\n",
    "            ], dim=-1).float()\n",
    "            pose = pose - 32\n",
    "            pose = center.view(n_batch, 1, 2) + pose / 64 * scale.view(n_batch, 1, 1) * 200\n",
    "\n",
    "            pose = pose.to(config.bilinear.device)\n",
    "            pose = torch.index_select(pose, dim=1, index=from_MPII_to_H36M)\n",
    "            \n",
    "            in_image_space = np.asarray(pose.cpu())\n",
    "            part.append(in_image_space)\n",
    "\n",
    "            progress.update(1)\n",
    "            step = step + 1"
   ]
  },
  {
   "cell_type": "code",
   "execution_count": 11,
   "metadata": {},
   "outputs": [],
   "source": [
    "train = np.concatenate(part, axis=0)"
   ]
  },
  {
   "cell_type": "code",
   "execution_count": 13,
   "metadata": {},
   "outputs": [],
   "source": [
    "data = pickle.load(open('data/Human3.6M/train_GT.bin', 'rb'))\n",
    "data[H36M.Annotation.Part] = train\n",
    "pickle.dump(data, open('data/Human3.6M/train_SH.bin', 'wb'))"
   ]
  },
  {
   "cell_type": "code",
   "execution_count": 19,
   "metadata": {},
   "outputs": [],
   "source": [
    "valid = np.concatenate(part, axis=0)"
   ]
  },
  {
   "cell_type": "code",
   "execution_count": 20,
   "metadata": {},
   "outputs": [
    {
     "data": {
      "text/plain": [
       "(109867, 17, 2)"
      ]
     },
     "execution_count": 20,
     "metadata": {},
     "output_type": "execute_result"
    }
   ],
   "source": [
    "valid.shape"
   ]
  },
  {
   "cell_type": "code",
   "execution_count": null,
   "metadata": {},
   "outputs": [],
   "source": [
    "data = pickle.load(open('data/Human3.6M/valid_GT.bin', 'rb'))\n",
    "data[H36M.Annotation.Part] = valid\n",
    "pickle.dump(data, open('data/Human3.6M/valid_SH.bin', 'wb'))"
   ]
  },
  {
   "cell_type": "code",
   "execution_count": 14,
   "metadata": {},
   "outputs": [
    {
     "name": "stderr",
     "output_type": "stream",
     "text": [
      "[INFO|<ipython-input-14-2028c9167912>:1] 2018-09-11 00:52:45,178 > Saved to data/Human3.6M/train_SH.bin             \n",
      "[INFO|<ipython-input-14-2028c9167912>:2] 2018-09-11 00:52:45,192 > ===========================================================\n"
     ]
    }
   ],
   "source": [
    "logger.info('Saved to ' + 'data/Human3.6M/train_SH.bin' + '             ')\n",
    "logger.info('===========================================================')"
   ]
  },
  {
   "cell_type": "code",
   "execution_count": null,
   "metadata": {},
   "outputs": [],
   "source": [
    "# Run above cells again with H36M.Task.Valid"
   ]
  }
 ],
 "metadata": {
  "kernelspec": {
   "display_name": "Python 3",
   "language": "python",
   "name": "python3"
  },
  "language_info": {
   "codemirror_mode": {
    "name": "ipython",
    "version": 3
   },
   "file_extension": ".py",
   "mimetype": "text/x-python",
   "name": "python",
   "nbconvert_exporter": "python",
   "pygments_lexer": "ipython3",
   "version": "3.5.2"
  }
 },
 "nbformat": 4,
 "nbformat_minor": 2
}
